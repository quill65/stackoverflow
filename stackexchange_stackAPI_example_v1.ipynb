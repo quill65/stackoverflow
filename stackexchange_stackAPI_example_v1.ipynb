{
 "cells": [
  {
   "cell_type": "markdown",
   "metadata": {},
   "source": [
    "# Applied Data Science — Stack Overflow \n",
    "\n",
    "## John Burt\n",
    "### Portland Data Science Group<br/>Applied Data Science Meetup series\n",
    "\n",
    "### Notebook purpose: demonstrate StackAPI - Python API for reading stack exchange data\n",
    "\n",
    "The StackAPI python module lets you query and download stack exchange data. It provides and alternative method to the Stack Exchange Data Explorer for acquiring stack overflow questions, answers, comments, etc.\n",
    "\n",
    "\n",
    "### Basic documentation\n",
    "- https://stackapi.readthedocs.io/en/latest/\n",
    "\n",
    "\n",
    "### Filters (specify what fields are returned with queries):\n",
    "- http://api.stackexchange.com/docs/filters\n",
    "\n",
    "\n",
    "### Install:\n",
    "- pip install stackapi"
   ]
  },
  {
   "cell_type": "markdown",
   "metadata": {},
   "source": [
    "## Basic query\n",
    "\n",
    "Queries return a dict with a list of items. The items contain fields, which can be specified with the filter parameter. \n",
    "\n",
    "#### Note that if you don't specify \"filter='withbody'\", then the actual text will not be returned."
   ]
  },
  {
   "cell_type": "code",
   "execution_count": 12,
   "metadata": {},
   "outputs": [
    {
     "name": "stdout",
     "output_type": "stream",
     "text": [
      "['Using &#39;assignment expressions&#39;:  following error:', '@MarcGlisse and for <code>-O3</code>, it&#39;s loading and comparing the <code>char</code>s as integers, probably because the compiler realizes that they can only be <code>&#39;A&#39;</code>s. Unfortunately, the naive <code>-O0</code> used vector-instructions that beat this optimization easily.', 'Wait? Is this just try to create replacement of <code>JSONDecoder</code>’s <code>decode</code> without possibility to change decoder and catch errors?', 'just do not use new, use std::unique_ptr instead:', '@MelonieRichey - No problem! If this answer has sorted out your particular question, please click the check mark at the top left of the answer to mark your question as closed.']\n"
     ]
    }
   ],
   "source": [
    "from stackapi import StackAPI\n",
    "\n",
    "SITE = StackAPI('stackoverflow')\n",
    "result = SITE.fetch('comments', filter='withbody')\n",
    "\n",
    "text = [item['body'] for item in result['items']]\n",
    "print(text[:5])\n"
   ]
  },
  {
   "cell_type": "markdown",
   "metadata": {},
   "source": [
    "## Examples from the StackAPI advanced documentation\n",
    "\n",
    "See https://stackapi.readthedocs.io/en/latest/user/complex.html"
   ]
  },
  {
   "cell_type": "code",
   "execution_count": 7,
   "metadata": {},
   "outputs": [
    {
     "name": "stdout",
     "output_type": "stream",
     "text": [
      "616\n"
     ]
    }
   ],
   "source": [
    "from datetime import datetime\n",
    "\n",
    "# All Stack Overflow Users Created on Feb. 27th of 2011\n",
    "SITE = StackAPI('stackoverflow')\n",
    "SITE.max_pages=10\n",
    "users = SITE.fetch('users', fromdate=datetime(2011,2,27), todate=datetime(2011,2,28))\n",
    "print(len(users['items']))\n"
   ]
  },
  {
   "cell_type": "code",
   "execution_count": 8,
   "metadata": {},
   "outputs": [
    {
     "name": "stdout",
     "output_type": "stream",
     "text": [
      "616\n"
     ]
    }
   ],
   "source": [
    "# Comments with at least a score of 10 on Ask Ubuntu\n",
    "SITE = StackAPI('askubuntu')\n",
    "comments = SITE.fetch('comments', min=10, sort='votes')\n",
    "print(len(users['items']))\n"
   ]
  },
  {
   "cell_type": "code",
   "execution_count": 9,
   "metadata": {},
   "outputs": [
    {
     "name": "stdout",
     "output_type": "stream",
     "text": [
      "339426\n"
     ]
    }
   ],
   "source": [
    "# Of three specific posts on Server Fault, which one has the most recent activity\n",
    "SITE = StackAPI('serverfault')\n",
    "SITE.max_pages=1\n",
    "SITE.page_size=1\n",
    "post = SITE.fetch('posts', ids=[3743, 327738, 339426], sort='activity', order='desc')\n",
    "print(post['items'][0]['post_id'])\n"
   ]
  },
  {
   "cell_type": "code",
   "execution_count": 10,
   "metadata": {},
   "outputs": [
    {
     "name": "stdout",
     "output_type": "stream",
     "text": [
      "616\n"
     ]
    }
   ],
   "source": [
    "# Any favorites added in the month of December 2011 by Darin Dimitrov\n",
    "SITE = StackAPI('stackoverflow')\n",
    "from datetime import datetime\n",
    "favorites = SITE.fetch('users/{ids}/favorites', min=datetime(2011, 12, 1), \n",
    "                       max=datetime(2012, 1, 1), sort='added', ids=[29407])\n",
    "print(len(users['items']))\n"
   ]
  },
  {
   "cell_type": "code",
   "execution_count": 11,
   "metadata": {},
   "outputs": [
    {
     "data": {
      "text/plain": [
       "239"
      ]
     },
     "execution_count": 11,
     "metadata": {},
     "output_type": "execute_result"
    }
   ],
   "source": [
    "# Questions created during the Modern Warfare 3 VS Skyrim Contest with the skryim tag \n",
    "#  and a score greater than 10 on Gaming Stack Exchange\n",
    "SITE = StackAPI('gaming')\n",
    "from datetime import datetime\n",
    "questions = SITE.fetch('questions', fromdate=datetime(2011,11,11), \n",
    "                       todate=datetime(2011,11,19), min=10, sort='votes', tagged='skyrim')\n",
    "len(questions['items'])\n"
   ]
  }
 ],
 "metadata": {
  "kernelspec": {
   "display_name": "Python 3",
   "language": "python",
   "name": "python3"
  },
  "language_info": {
   "codemirror_mode": {
    "name": "ipython",
    "version": 3
   },
   "file_extension": ".py",
   "mimetype": "text/x-python",
   "name": "python",
   "nbconvert_exporter": "python",
   "pygments_lexer": "ipython3",
   "version": "3.5.6"
  }
 },
 "nbformat": 4,
 "nbformat_minor": 2
}
